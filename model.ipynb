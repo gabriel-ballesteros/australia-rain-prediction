{
 "cells": [
  {
   "cell_type": "markdown",
   "metadata": {},
   "source": [
    "# Imports & data loading"
   ]
  },
  {
   "cell_type": "code",
   "execution_count": 1,
   "metadata": {},
   "outputs": [
    {
     "name": "stderr",
     "output_type": "stream",
     "text": [
      "/Users/elros/miniconda3/envs/ds/lib/python3.7/site-packages/lightgbm/__init__.py:48: UserWarning: Starting from version 2.2.1, the library file in distribution wheels for macOS is built by the Apple Clang (Xcode_8.3.3) compiler.\n",
      "This means that in case of installing LightGBM from PyPI via the ``pip install lightgbm`` command, you don't need to install the gcc compiler anymore.\n",
      "Instead of that, you need to install the OpenMP library, which is required for running LightGBM on the system with the Apple Clang compiler.\n",
      "You can install the OpenMP library by the following command: ``brew install libomp``.\n",
      "  \"You can install the OpenMP library by the following command: ``brew install libomp``.\", UserWarning)\n"
     ]
    }
   ],
   "source": [
    "import pandas as pd\n",
    "import numpy as np\n",
    "import matplotlib.pyplot as plt\n",
    "import seaborn as sns\n",
    "from sklearn.linear_model import LogisticRegression\n",
    "from sklearn.preprocessing import StandardScaler, OneHotEncoder, RobustScaler\n",
    "from sklearn.feature_selection import VarianceThreshold, SelectKBest\n",
    "from sklearn.model_selection import train_test_split, cross_val_score, KFold, learning_curve, cross_val_predict\n",
    "from sklearn.metrics import confusion_matrix,plot_roc_curve, plot_confusion_matrix, roc_auc_score, accuracy_score, precision_score, recall_score\n",
    "from sklearn.impute import SimpleImputer, KNNImputer\n",
    "from lightgbm import LGBMClassifier\n",
    "import itertools\n",
    "from mlxtend.feature_selection import SequentialFeatureSelector as SFS\n",
    "from mlxtend.plotting import plot_sequential_feature_selection as plot_sfs\n",
    "\n",
    "import requests\n",
    "import json\n",
    "import time"
   ]
  },
  {
   "cell_type": "code",
   "execution_count": 2,
   "metadata": {},
   "outputs": [],
   "source": [
    "rain = pd.read_csv('data/rain_data_aus.csv')"
   ]
  },
  {
   "cell_type": "code",
   "execution_count": 3,
   "metadata": {},
   "outputs": [
    {
     "data": {
      "text/html": [
       "<div>\n",
       "<style scoped>\n",
       "    .dataframe tbody tr th:only-of-type {\n",
       "        vertical-align: middle;\n",
       "    }\n",
       "\n",
       "    .dataframe tbody tr th {\n",
       "        vertical-align: top;\n",
       "    }\n",
       "\n",
       "    .dataframe thead th {\n",
       "        text-align: right;\n",
       "    }\n",
       "</style>\n",
       "<table border=\"1\" class=\"dataframe\">\n",
       "  <thead>\n",
       "    <tr style=\"text-align: right;\">\n",
       "      <th></th>\n",
       "      <th>date</th>\n",
       "      <th>location</th>\n",
       "      <th>mintemp</th>\n",
       "      <th>maxtemp</th>\n",
       "      <th>rainfall</th>\n",
       "      <th>evaporation</th>\n",
       "      <th>sunshine</th>\n",
       "      <th>humidity9am</th>\n",
       "      <th>humidity3pm</th>\n",
       "      <th>pressure9am</th>\n",
       "      <th>...</th>\n",
       "      <th>temp9am</th>\n",
       "      <th>temp3pm</th>\n",
       "      <th>raintoday</th>\n",
       "      <th>amountOfRain</th>\n",
       "      <th>raintomorrow</th>\n",
       "      <th>temp</th>\n",
       "      <th>humidity</th>\n",
       "      <th>precipitation3pm</th>\n",
       "      <th>precipitation9am</th>\n",
       "      <th>modelo_vigente</th>\n",
       "    </tr>\n",
       "  </thead>\n",
       "  <tbody>\n",
       "    <tr>\n",
       "      <th>0</th>\n",
       "      <td>2008-12-01</td>\n",
       "      <td>Albury</td>\n",
       "      <td>13.4</td>\n",
       "      <td>22.9</td>\n",
       "      <td>0.6</td>\n",
       "      <td>NaN</td>\n",
       "      <td>NaN</td>\n",
       "      <td>71.0</td>\n",
       "      <td>22.0</td>\n",
       "      <td>1007.7</td>\n",
       "      <td>...</td>\n",
       "      <td>16.9</td>\n",
       "      <td>21.8</td>\n",
       "      <td>No</td>\n",
       "      <td>0.0</td>\n",
       "      <td>No</td>\n",
       "      <td>29.48</td>\n",
       "      <td>28.400000</td>\n",
       "      <td>12</td>\n",
       "      <td>5.115360</td>\n",
       "      <td>0.089825</td>\n",
       "    </tr>\n",
       "    <tr>\n",
       "      <th>1</th>\n",
       "      <td>2008-12-02</td>\n",
       "      <td>Albury</td>\n",
       "      <td>7.4</td>\n",
       "      <td>25.1</td>\n",
       "      <td>0.0</td>\n",
       "      <td>NaN</td>\n",
       "      <td>NaN</td>\n",
       "      <td>44.0</td>\n",
       "      <td>25.0</td>\n",
       "      <td>1010.6</td>\n",
       "      <td>...</td>\n",
       "      <td>17.2</td>\n",
       "      <td>24.3</td>\n",
       "      <td>No</td>\n",
       "      <td>0.0</td>\n",
       "      <td>No</td>\n",
       "      <td>32.12</td>\n",
       "      <td>2.208569</td>\n",
       "      <td>10</td>\n",
       "      <td>21.497100</td>\n",
       "      <td>0.023477</td>\n",
       "    </tr>\n",
       "    <tr>\n",
       "      <th>2</th>\n",
       "      <td>2008-12-03</td>\n",
       "      <td>Albury</td>\n",
       "      <td>12.9</td>\n",
       "      <td>25.7</td>\n",
       "      <td>0.0</td>\n",
       "      <td>NaN</td>\n",
       "      <td>NaN</td>\n",
       "      <td>38.0</td>\n",
       "      <td>30.0</td>\n",
       "      <td>1007.6</td>\n",
       "      <td>...</td>\n",
       "      <td>21.0</td>\n",
       "      <td>23.2</td>\n",
       "      <td>No</td>\n",
       "      <td>0.0</td>\n",
       "      <td>No</td>\n",
       "      <td>32.84</td>\n",
       "      <td>38.000000</td>\n",
       "      <td>17</td>\n",
       "      <td>20.782859</td>\n",
       "      <td>0.027580</td>\n",
       "    </tr>\n",
       "    <tr>\n",
       "      <th>3</th>\n",
       "      <td>2008-12-04</td>\n",
       "      <td>Albury</td>\n",
       "      <td>9.2</td>\n",
       "      <td>28.0</td>\n",
       "      <td>0.0</td>\n",
       "      <td>NaN</td>\n",
       "      <td>NaN</td>\n",
       "      <td>45.0</td>\n",
       "      <td>16.0</td>\n",
       "      <td>1017.6</td>\n",
       "      <td>...</td>\n",
       "      <td>18.1</td>\n",
       "      <td>26.5</td>\n",
       "      <td>No</td>\n",
       "      <td>1.0</td>\n",
       "      <td>No</td>\n",
       "      <td>35.60</td>\n",
       "      <td>21.200000</td>\n",
       "      <td>8</td>\n",
       "      <td>12.028646</td>\n",
       "      <td>0.023962</td>\n",
       "    </tr>\n",
       "    <tr>\n",
       "      <th>4</th>\n",
       "      <td>2008-12-05</td>\n",
       "      <td>Albury</td>\n",
       "      <td>17.5</td>\n",
       "      <td>32.3</td>\n",
       "      <td>1.0</td>\n",
       "      <td>NaN</td>\n",
       "      <td>NaN</td>\n",
       "      <td>82.0</td>\n",
       "      <td>33.0</td>\n",
       "      <td>1010.8</td>\n",
       "      <td>...</td>\n",
       "      <td>17.8</td>\n",
       "      <td>29.7</td>\n",
       "      <td>No</td>\n",
       "      <td>0.2</td>\n",
       "      <td>No</td>\n",
       "      <td>40.76</td>\n",
       "      <td>41.600000</td>\n",
       "      <td>9</td>\n",
       "      <td>11.883546</td>\n",
       "      <td>0.220164</td>\n",
       "    </tr>\n",
       "  </tbody>\n",
       "</table>\n",
       "<p>5 rows × 23 columns</p>\n",
       "</div>"
      ],
      "text/plain": [
       "         date location  mintemp  maxtemp  rainfall  evaporation  sunshine  \\\n",
       "0  2008-12-01   Albury     13.4     22.9       0.6          NaN       NaN   \n",
       "1  2008-12-02   Albury      7.4     25.1       0.0          NaN       NaN   \n",
       "2  2008-12-03   Albury     12.9     25.7       0.0          NaN       NaN   \n",
       "3  2008-12-04   Albury      9.2     28.0       0.0          NaN       NaN   \n",
       "4  2008-12-05   Albury     17.5     32.3       1.0          NaN       NaN   \n",
       "\n",
       "   humidity9am  humidity3pm  pressure9am  ...  temp9am  temp3pm  raintoday  \\\n",
       "0         71.0         22.0       1007.7  ...     16.9     21.8         No   \n",
       "1         44.0         25.0       1010.6  ...     17.2     24.3         No   \n",
       "2         38.0         30.0       1007.6  ...     21.0     23.2         No   \n",
       "3         45.0         16.0       1017.6  ...     18.1     26.5         No   \n",
       "4         82.0         33.0       1010.8  ...     17.8     29.7         No   \n",
       "\n",
       "   amountOfRain  raintomorrow   temp   humidity precipitation3pm  \\\n",
       "0           0.0            No  29.48  28.400000               12   \n",
       "1           0.0            No  32.12   2.208569               10   \n",
       "2           0.0            No  32.84  38.000000               17   \n",
       "3           1.0            No  35.60  21.200000                8   \n",
       "4           0.2            No  40.76  41.600000                9   \n",
       "\n",
       "   precipitation9am  modelo_vigente  \n",
       "0          5.115360        0.089825  \n",
       "1         21.497100        0.023477  \n",
       "2         20.782859        0.027580  \n",
       "3         12.028646        0.023962  \n",
       "4         11.883546        0.220164  \n",
       "\n",
       "[5 rows x 23 columns]"
      ]
     },
     "execution_count": 3,
     "metadata": {},
     "output_type": "execute_result"
    }
   ],
   "source": [
    "rain.head(5)"
   ]
  },
  {
   "cell_type": "markdown",
   "metadata": {},
   "source": [
    "# Possible additional features"
   ]
  },
  {
   "cell_type": "markdown",
   "metadata": {},
   "source": [
    "## Wind"
   ]
  },
  {
   "cell_type": "code",
   "execution_count": 4,
   "metadata": {},
   "outputs": [],
   "source": [
    "wind = pd.read_csv('data/wind_table_01.csv')"
   ]
  },
  {
   "cell_type": "code",
   "execution_count": 5,
   "metadata": {},
   "outputs": [],
   "source": [
    "wind = wind.append([pd.read_csv('data/wind_table_02.csv'),\n",
    "            pd.read_csv('data/wind_table_03.csv'),\n",
    "            pd.read_csv('data/wind_table_04.csv'),\n",
    "            pd.read_csv('data/wind_table_05.csv'),\n",
    "            pd.read_csv('data/wind_table_06.csv'),\n",
    "            pd.read_csv('data/wind_table_07.csv'),\n",
    "            pd.read_csv('data/wind_table_08.csv'),])"
   ]
  },
  {
   "cell_type": "code",
   "execution_count": 6,
   "metadata": {},
   "outputs": [
    {
     "data": {
      "text/html": [
       "<div>\n",
       "<style scoped>\n",
       "    .dataframe tbody tr th:only-of-type {\n",
       "        vertical-align: middle;\n",
       "    }\n",
       "\n",
       "    .dataframe tbody tr th {\n",
       "        vertical-align: top;\n",
       "    }\n",
       "\n",
       "    .dataframe thead th {\n",
       "        text-align: right;\n",
       "    }\n",
       "</style>\n",
       "<table border=\"1\" class=\"dataframe\">\n",
       "  <thead>\n",
       "    <tr style=\"text-align: right;\">\n",
       "      <th></th>\n",
       "      <th>date</th>\n",
       "      <th>location</th>\n",
       "      <th>wind_gustdir</th>\n",
       "      <th>wind_gustspeed</th>\n",
       "      <th>wind_dir9am</th>\n",
       "      <th>wind_dir3pm</th>\n",
       "      <th>wind_speed9am</th>\n",
       "      <th>wind_speed3pm</th>\n",
       "      <th>windgustdir</th>\n",
       "      <th>windgustspeed</th>\n",
       "      <th>winddir9am</th>\n",
       "      <th>winddir3pm</th>\n",
       "      <th>windspeed9am</th>\n",
       "      <th>windspeed3pm</th>\n",
       "    </tr>\n",
       "  </thead>\n",
       "  <tbody>\n",
       "    <tr>\n",
       "      <th>0</th>\n",
       "      <td>2007-11-01</td>\n",
       "      <td>Canberra</td>\n",
       "      <td>NW</td>\n",
       "      <td>30.0</td>\n",
       "      <td>SW</td>\n",
       "      <td>NW</td>\n",
       "      <td>6.0</td>\n",
       "      <td>20.0</td>\n",
       "      <td>NaN</td>\n",
       "      <td>NaN</td>\n",
       "      <td>NaN</td>\n",
       "      <td>NaN</td>\n",
       "      <td>NaN</td>\n",
       "      <td>NaN</td>\n",
       "    </tr>\n",
       "    <tr>\n",
       "      <th>1</th>\n",
       "      <td>2007-11-02</td>\n",
       "      <td>Canberra</td>\n",
       "      <td>ENE</td>\n",
       "      <td>39.0</td>\n",
       "      <td>E</td>\n",
       "      <td>W</td>\n",
       "      <td>4.0</td>\n",
       "      <td>17.0</td>\n",
       "      <td>NaN</td>\n",
       "      <td>NaN</td>\n",
       "      <td>NaN</td>\n",
       "      <td>NaN</td>\n",
       "      <td>NaN</td>\n",
       "      <td>NaN</td>\n",
       "    </tr>\n",
       "    <tr>\n",
       "      <th>2</th>\n",
       "      <td>2007-11-03</td>\n",
       "      <td>Canberra</td>\n",
       "      <td>NW</td>\n",
       "      <td>85.0</td>\n",
       "      <td>N</td>\n",
       "      <td>NNE</td>\n",
       "      <td>6.0</td>\n",
       "      <td>6.0</td>\n",
       "      <td>NaN</td>\n",
       "      <td>NaN</td>\n",
       "      <td>NaN</td>\n",
       "      <td>NaN</td>\n",
       "      <td>NaN</td>\n",
       "      <td>NaN</td>\n",
       "    </tr>\n",
       "    <tr>\n",
       "      <th>3</th>\n",
       "      <td>2007-11-04</td>\n",
       "      <td>Canberra</td>\n",
       "      <td>NW</td>\n",
       "      <td>54.0</td>\n",
       "      <td>WNW</td>\n",
       "      <td>W</td>\n",
       "      <td>30.0</td>\n",
       "      <td>24.0</td>\n",
       "      <td>NaN</td>\n",
       "      <td>NaN</td>\n",
       "      <td>NaN</td>\n",
       "      <td>NaN</td>\n",
       "      <td>NaN</td>\n",
       "      <td>NaN</td>\n",
       "    </tr>\n",
       "    <tr>\n",
       "      <th>4</th>\n",
       "      <td>2007-11-05</td>\n",
       "      <td>Canberra</td>\n",
       "      <td>SSE</td>\n",
       "      <td>50.0</td>\n",
       "      <td>SSE</td>\n",
       "      <td>ESE</td>\n",
       "      <td>20.0</td>\n",
       "      <td>28.0</td>\n",
       "      <td>NaN</td>\n",
       "      <td>NaN</td>\n",
       "      <td>NaN</td>\n",
       "      <td>NaN</td>\n",
       "      <td>NaN</td>\n",
       "      <td>NaN</td>\n",
       "    </tr>\n",
       "  </tbody>\n",
       "</table>\n",
       "</div>"
      ],
      "text/plain": [
       "         date  location wind_gustdir  wind_gustspeed wind_dir9am wind_dir3pm  \\\n",
       "0  2007-11-01  Canberra           NW            30.0          SW          NW   \n",
       "1  2007-11-02  Canberra          ENE            39.0           E           W   \n",
       "2  2007-11-03  Canberra           NW            85.0           N         NNE   \n",
       "3  2007-11-04  Canberra           NW            54.0         WNW           W   \n",
       "4  2007-11-05  Canberra          SSE            50.0         SSE         ESE   \n",
       "\n",
       "   wind_speed9am  wind_speed3pm windgustdir  windgustspeed winddir9am  \\\n",
       "0            6.0           20.0         NaN            NaN        NaN   \n",
       "1            4.0           17.0         NaN            NaN        NaN   \n",
       "2            6.0            6.0         NaN            NaN        NaN   \n",
       "3           30.0           24.0         NaN            NaN        NaN   \n",
       "4           20.0           28.0         NaN            NaN        NaN   \n",
       "\n",
       "  winddir3pm  windspeed9am  windspeed3pm  \n",
       "0        NaN           NaN           NaN  \n",
       "1        NaN           NaN           NaN  \n",
       "2        NaN           NaN           NaN  \n",
       "3        NaN           NaN           NaN  \n",
       "4        NaN           NaN           NaN  "
      ]
     },
     "execution_count": 6,
     "metadata": {},
     "output_type": "execute_result"
    }
   ],
   "source": [
    "wind.head(5)"
   ]
  },
  {
   "cell_type": "code",
   "execution_count": 7,
   "metadata": {},
   "outputs": [],
   "source": [
    "wind.drop_duplicates(subset=wind.columns, inplace=True)\n",
    "rain = rain.merge(wind, on=['location','date'])"
   ]
  },
  {
   "cell_type": "markdown",
   "metadata": {},
   "source": [
    "## Latitude and Longitude"
   ]
  },
  {
   "cell_type": "code",
   "execution_count": 8,
   "metadata": {},
   "outputs": [
    {
     "data": {
      "text/plain": [
       "array(['Albury', 'BadgerysCreek', 'Cobar', 'CoffsHarbour', 'Moree',\n",
       "       'Newcastle', 'NorahHead', 'NorfolkIsland', 'Penrith', 'Richmond',\n",
       "       'Sydney', 'SydneyAirport', 'WaggaWagga', 'Williamtown',\n",
       "       'Wollongong', 'Canberra', 'Tuggeranong', 'MountGinini', 'Ballarat',\n",
       "       'Bendigo', 'Sale', 'MelbourneAirport', 'Melbourne', 'Mildura',\n",
       "       'Nhil', 'Portland', 'Watsonia', 'Dartmoor', 'Brisbane', 'Cairns',\n",
       "       'GoldCoast', 'Townsville', 'Adelaide', 'MountGambier', 'Nuriootpa',\n",
       "       'Woomera', 'Albany', 'Witchcliffe', 'PearceRAAF', 'PerthAirport',\n",
       "       'Perth', 'SalmonGums', 'Walpole', 'Hobart', 'Launceston',\n",
       "       'AliceSprings', 'Darwin', 'Katherine', 'Uluru'], dtype=object)"
      ]
     },
     "execution_count": 8,
     "metadata": {},
     "output_type": "execute_result"
    }
   ],
   "source": [
    "rain['location'].unique()"
   ]
  },
  {
   "cell_type": "code",
   "execution_count": 9,
   "metadata": {},
   "outputs": [],
   "source": [
    "lat_lon = {\n",
    "    'BadgerysCreek' : (-33.879377528357345, 150.76062423421945),\n",
    "    'Albury' : (-36.07383198870718, 146.91296901711635),\n",
    "    'Cobar' : (-31.487939903735267, 145.84463868626563),\n",
    "    'CoffsHarbour' : (-30.29718757178068, 153.11526710392258),\n",
    "    'Moree' : (-29.440216080649265, 149.83353604961772),\n",
    "    'NorfolkIsland' : (-29.036673284583994, 167.9552915013074),\n",
    "    'Sydney' : (-33.89011666916285, 151.11184106092688),\n",
    "    'SydneyAirport' : (-33.939653693766466, 151.1758943735156),\n",
    "    'WaggaWagga' : (-35.10634530967798, 147.3604314637853),\n",
    "    'Williamtown' : (-37.86116925122329, 144.88969672047764),\n",
    "    'Canberra' : (-35.29755690827428, 149.12692934564876),\n",
    "    'Sale' : (-38.10053145619689, 147.07314295588353),\n",
    "    'MelbourneAirport' : (-37.669639531602726, 144.84145828525055),\n",
    "    'Melbourne' : (-37.81887701386994, 144.9957392412022),\n",
    "    'Mildura' : (-34.20873358167369, 142.13051228338728),\n",
    "    'Portland' : (-38.352152587261116, 141.60565367749297),\n",
    "    'Watsonia' : (-37.70920479895751, 145.082558129801),\n",
    "    'Brisbane' : (-27.49033507781788, 153.04896863426117),\n",
    "    'Cairns' : (-16.929355308139346, 145.74777869972905),\n",
    "    'Townsville' : (-19.274469532193546, 146.7690528593378),\n",
    "    'MountGambier' : (-37.821813333187244, 140.78090825776917),\n",
    "    'Nuriootpa' : (-34.469086037136734, 138.99299960851346),\n",
    "    'Woomera' : (-31.196952532415747, 136.82582109960006),\n",
    "    'Albany' : (-35.020731963138495, 117.88343760805337),\n",
    "    'PerthAirport' : (-31.939609000908586, 115.96683961930746),\n",
    "    'Perth' : (-31.94173404955837, 115.83613290693711),\n",
    "    'Hobart' : (-42.88255999036971, 147.32739760794198),\n",
    "    'AliceSprings' : (-23.697938533987184, 133.88120279738044),\n",
    "    'Darwin' : (-12.382344526724662, 130.87996886959004),\n",
    "    'Newcastle' : (-32.931435427713225, 151.75021194376723),\n",
    "    'NorahHead' : (-33.281774853636925, 151.5670017932749),\n",
    "    'Penrith' : (-33.752196848268426, 150.6946825633104),\n",
    "    'Richmond' : (-33.59979119907803, 150.75232332046352),\n",
    "    'Wollongong' : (-34.427814011356915, 150.88891379743123),\n",
    "    'Tuggeranong' : (-35.41042738809596, 149.10187301160292),\n",
    "    'MountGinini' : (-35.52905700334009, 148.77245206855258),\n",
    "    'Ballarat' : (-37.562566695304994, 143.8528621487283),\n",
    "    'Bendigo' : (-36.75549153225249, 144.2796392480247),\n",
    "    'Nhil' : (-36.33362057245178, 141.65025804158452),\n",
    "    'Dartmoor' : (-37.9177149087168, 141.2761564745003),\n",
    "    'GoldCoast' : (-28.014953647717725, 153.40059644566546),\n",
    "    'Adelaide' : (-34.92160135508944, 138.600025787353),\n",
    "    'Witchcliffe' : (-34.01642120619706, 115.09728337170588),\n",
    "    'PearceRAAF' : (-31.66733723316479, 116.02928581313837),\n",
    "    'SalmonGums' : (-32.959121561602196, 121.631584982849),\n",
    "    'Walpole' : (-34.97747017517623, 116.73707906563985),\n",
    "    'Launceston' : (-41.42700212198398, 147.14435998630626),\n",
    "    'Katherine' : (-14.463566306610936, 132.266118595156),\n",
    "    'Uluru' : (-25.34433831484179, 131.03688832238223)\n",
    "}"
   ]
  },
  {
   "cell_type": "markdown",
   "metadata": {},
   "source": [
    "According to [this](https://datascience.stackexchange.com/questions/13567/ways-to-deal-with-longitude-latitude-feature) answer in data science stackexchange we can \"normalize\" lat and lon in 3 dimension variables using sine and cosine:"
   ]
  },
  {
   "cell_type": "code",
   "execution_count": 10,
   "metadata": {},
   "outputs": [],
   "source": [
    "rain['lat'] = rain['location'].map(lambda x: lat_lon[x][0])\n",
    "rain['lon'] = rain['location'].map(lambda x: lat_lon[x][1])\n",
    "rain['x'] = np.cos(rain['lat']) * np.cos(rain['lon'])\n",
    "rain['y'] = np.cos(rain['lat']) * np.sin(rain['lon'])\n",
    "rain['z'] = np.sin(rain['lat'])"
   ]
  },
  {
   "cell_type": "markdown",
   "metadata": {},
   "source": [
    "## Distance to coastline"
   ]
  },
  {
   "cell_type": "markdown",
   "metadata": {},
   "source": [
    "<img src=\"img/rainfall-distribution.png\">\n",
    "The distance to the ocean seems to be important!\n",
    "\n",
    "[Source](https://www.researchgate.net/publication/250119451_Stress_Tolerance_and_Persistence_of_Perennial_Grasses_The_Role_of_the_Summer_Dormancy_Trait_in_Temperate_Australia)"
   ]
  },
  {
   "cell_type": "code",
   "execution_count": 11,
   "metadata": {},
   "outputs": [],
   "source": [
    "#distance_to_coast = {}"
   ]
  },
  {
   "cell_type": "markdown",
   "metadata": {},
   "source": [
    "Used [this API](https://www.kbgeo.com/) to get the distance to the coastline in miles from a point using latitude and longitude"
   ]
  },
  {
   "cell_type": "code",
   "execution_count": 12,
   "metadata": {},
   "outputs": [
    {
     "data": {
      "text/plain": [
       "'\\nfor location in lat_lon.keys():\\n    lat = lat_lon[location][0]\\n    lon = lat_lon[location][1]\\n    r = requests.get(\\'https://api.kbgeo.com/coastal-distance/v2/coord?lat=\\' + str(lat) + \\'&lng=\\' + str(lon),\\n                 headers={\\'kb-auth-token\\': \\'d1aa5373-2c45-4392-b863-8a232fd50fba\\'})\\n    distance_to_coast[location] = json.loads(r.content)[\\'distanceInMiles\\']\\n    time.sleep(5)\\ndist_coast_file = open(\"data/distance_coast.json\", \"w\")\\njson.dump(distance_to_coast, dist_coast_file)\\ndist_coast_file.close()\\n'"
      ]
     },
     "execution_count": 12,
     "metadata": {},
     "output_type": "execute_result"
    }
   ],
   "source": [
    "'''\n",
    "for location in lat_lon.keys():\n",
    "    lat = lat_lon[location][0]\n",
    "    lon = lat_lon[location][1]\n",
    "    r = requests.get('https://api.kbgeo.com/coastal-distance/v2/coord?lat=' + str(lat) + '&lng=' + str(lon),\n",
    "                 headers={'kb-auth-token': 'd1aa5373-2c45-4392-b863-8a232fd50fba'})\n",
    "    distance_to_coast[location] = json.loads(r.content)['distanceInMiles']\n",
    "    time.sleep(5)\n",
    "dist_coast_file = open(\"data/distance_coast.json\", \"w\")\n",
    "json.dump(distance_to_coast, dist_coast_file)\n",
    "dist_coast_file.close()\n",
    "'''"
   ]
  },
  {
   "cell_type": "code",
   "execution_count": 13,
   "metadata": {},
   "outputs": [],
   "source": [
    "dist_coast_file = open(\"data/distance_coast.json\", \"r\")\n",
    "distance_to_coast = json.loads(dist_coast_file.read())\n",
    "dist_coast_file.close()"
   ]
  },
  {
   "cell_type": "code",
   "execution_count": 14,
   "metadata": {},
   "outputs": [],
   "source": [
    "rain['distanceToCoast'] = rain['location'].map(distance_to_coast)"
   ]
  },
  {
   "cell_type": "code",
   "execution_count": 15,
   "metadata": {},
   "outputs": [
    {
     "data": {
      "text/plain": [
       "60157      18.761\n",
       "2367      129.486\n",
       "48249      62.418\n",
       "109506      5.901\n",
       "5053       17.422\n",
       "73976       0.434\n",
       "15062       0.849\n",
       "58972      82.962\n",
       "51402      78.894\n",
       "36554     190.369\n",
       "Name: distanceToCoast, dtype: float64"
      ]
     },
     "execution_count": 15,
     "metadata": {},
     "output_type": "execute_result"
    }
   ],
   "source": [
    "rain['distanceToCoast'].sample(10)"
   ]
  },
  {
   "cell_type": "markdown",
   "metadata": {},
   "source": [
    "## Seasons/Month"
   ]
  },
  {
   "cell_type": "code",
   "execution_count": 16,
   "metadata": {},
   "outputs": [],
   "source": [
    "rain['month'] = pd.DatetimeIndex(rain['date']).month"
   ]
  },
  {
   "cell_type": "code",
   "execution_count": 17,
   "metadata": {},
   "outputs": [],
   "source": [
    "rain['summer'] = pd.DatetimeIndex(rain['date']).month.isin([12,1,2])\n",
    "rain['fall'] = pd.DatetimeIndex(rain['date']).month.isin([3,4,5])\n",
    "rain['winter'] = pd.DatetimeIndex(rain['date']).month.isin([6,7,8])\n",
    "rain['spring'] = pd.DatetimeIndex(rain['date']).month.isin([9,10,11])"
   ]
  },
  {
   "cell_type": "markdown",
   "metadata": {},
   "source": [
    "# Data Cleaning"
   ]
  },
  {
   "cell_type": "markdown",
   "metadata": {},
   "source": [
    "Drop the previous model, amount of rain, location, lat, lon and date since we won't use them:"
   ]
  },
  {
   "cell_type": "code",
   "execution_count": 18,
   "metadata": {},
   "outputs": [],
   "source": [
    "rain.drop(['modelo_vigente','amountOfRain','location','lat','lon','date'],axis='columns',inplace=True)"
   ]
  },
  {
   "cell_type": "markdown",
   "metadata": {},
   "source": [
    "Check the nulls:"
   ]
  },
  {
   "cell_type": "code",
   "execution_count": 61,
   "metadata": {},
   "outputs": [
    {
     "data": {
      "text/plain": [
       "mintemp            0.447983\n",
       "maxtemp            0.226453\n",
       "rainfall           0.988797\n",
       "evaporation       42.789026\n",
       "sunshine          47.692924\n",
       "                    ...    \n",
       "winddir3pm_SSW     0.000000\n",
       "winddir3pm_SW      0.000000\n",
       "winddir3pm_W       0.000000\n",
       "winddir3pm_WNW     0.000000\n",
       "winddir3pm_WSW     0.000000\n",
       "Length: 61, dtype: float64"
      ]
     },
     "execution_count": 61,
     "metadata": {},
     "output_type": "execute_result"
    }
   ],
   "source": [
    "rain.isnull().sum() * 100 / len(rain)"
   ]
  },
  {
   "cell_type": "markdown",
   "metadata": {},
   "source": [
    "## Categorical"
   ]
  },
  {
   "cell_type": "code",
   "execution_count": 20,
   "metadata": {},
   "outputs": [],
   "source": [
    "rain[\"raintoday\"].replace({\"No\": 0, \"Yes\": 1}, inplace=True)\n",
    "rain[\"raintomorrow\"].replace({\"No\": 0, \"Yes\": 1}, inplace=True)"
   ]
  },
  {
   "cell_type": "code",
   "execution_count": 21,
   "metadata": {},
   "outputs": [],
   "source": [
    "windir = rain[['wind_gustdir','wind_dir9am','wind_dir3pm','windgustdir','winddir9am','winddir3pm']]\n",
    "rain = pd.concat([rain,pd.get_dummies(windir)],axis=1)"
   ]
  },
  {
   "cell_type": "code",
   "execution_count": 22,
   "metadata": {},
   "outputs": [],
   "source": [
    "rain.drop([x for x in rain.columns if 'wind_dir' in x or 'gustdir' in x], axis='columns', inplace=True)"
   ]
  },
  {
   "cell_type": "code",
   "execution_count": 23,
   "metadata": {},
   "outputs": [],
   "source": [
    "rain = pd.concat([rain,pd.get_dummies(rain[['month']])],axis=1)"
   ]
  },
  {
   "cell_type": "code",
   "execution_count": 24,
   "metadata": {},
   "outputs": [],
   "source": [
    "rain.drop(['month','winddir9am','winddir3pm'], axis='columns', inplace=True)"
   ]
  },
  {
   "cell_type": "markdown",
   "metadata": {},
   "source": [
    "# EDA"
   ]
  },
  {
   "cell_type": "markdown",
   "metadata": {},
   "source": [
    "## Correlation with target"
   ]
  },
  {
   "cell_type": "code",
   "execution_count": 25,
   "metadata": {},
   "outputs": [
    {
     "data": {
      "text/plain": [
       "<AxesSubplot:>"
      ]
     },
     "execution_count": 25,
     "metadata": {},
     "output_type": "execute_result"
    },
    {
     "data": {
      "image/png": "[encoded data removed]",
      "text/plain": [
       "<Figure size 144x2160 with 2 Axes>"
      ]
     },
     "metadata": {
      "needs_background": "light"
     },
     "output_type": "display_data"
    }
   ],
   "source": [
    "plt.figure(figsize=(2,30))\n",
    "sns.heatmap(rain.corr()[['raintomorrow']].sort_values('raintomorrow',ascending=False),annot=True)"
   ]
  },
  {
   "cell_type": "markdown",
   "metadata": {},
   "source": [
    "## Boxplots"
   ]
  },
  {
   "cell_type": "code",
   "execution_count": 26,
   "metadata": {},
   "outputs": [
    {
     "data": {
      "text/plain": [
       "<AxesSubplot:xlabel='raintomorrow', ylabel='precipitation3pm'>"
      ]
     },
     "execution_count": 26,
     "metadata": {},
     "output_type": "execute_result"
    },
    {
     "data": {
      "image/png": "[encoded data removed]",
      "text/plain": [
       "<Figure size 1296x1008 with 16 Axes>"
      ]
     },
     "metadata": {
      "needs_background": "light"
     },
     "output_type": "display_data"
    }
   ],
   "source": [
    "fig, axes = plt.subplots(4,4,figsize=(18,14))\n",
    "sns.boxplot(data=rain,  x='raintomorrow', y='humidity3pm', ax=axes[0][0])\n",
    "sns.boxplot(data=rain,  x='raintomorrow', y='humidity', ax=axes[0][1])\n",
    "sns.boxplot(data=rain,  x='raintomorrow', y='cloud3pm', ax=axes[0][2])\n",
    "sns.boxplot(data=rain,  x='raintomorrow', y='cloud9am', ax=axes[0][3])\n",
    "sns.boxplot(data=rain,  x='raintomorrow', y='raintoday', ax=axes[1][0])\n",
    "sns.boxplot(data=rain,  x='raintomorrow', y='humidity9am', ax=axes[1][1])\n",
    "sns.boxplot(data=rain,  x='raintomorrow', y='rainfall', ax=axes[1][2])\n",
    "sns.boxplot(data=rain,  x='raintomorrow', y='sunshine', ax=axes[1][3])\n",
    "sns.boxplot(data=rain,  x='raintomorrow', y='pressure9am', ax=axes[2][0])\n",
    "sns.boxplot(data=rain,  x='raintomorrow', y='pressure3pm', ax=axes[2][1])\n",
    "sns.boxplot(data=rain,  x='raintomorrow', y='temp3pm', ax=axes[2][2])\n",
    "sns.boxplot(data=rain,  x='raintomorrow', y='maxtemp', ax=axes[2][3])\n",
    "sns.boxplot(data=rain,  x='raintomorrow', y='evaporation', ax=axes[3][0])\n",
    "sns.boxplot(data=rain,  x='raintomorrow', y='distanceToCoast', ax=axes[3][1])\n",
    "sns.boxplot(data=rain,  x='raintomorrow', y='wind_gustspeed', ax=axes[3][2])\n",
    "sns.boxplot(data=rain,  x='raintomorrow', y='windgustspeed', ax=axes[3][3])"
   ]
  },
  {
   "cell_type": "code",
   "execution_count": 27,
   "metadata": {},
   "outputs": [],
   "source": [
    "#rain.drop(['precipitation9am','precipitation3pm','pressure9am','pressure3pm'], axis='columns', inplace=True)"
   ]
  },
  {
   "cell_type": "markdown",
   "metadata": {},
   "source": [
    "# Models"
   ]
  },
  {
   "cell_type": "markdown",
   "metadata": {},
   "source": [
    "## Baseline (logistic)"
   ]
  },
  {
   "cell_type": "code",
   "execution_count": 28,
   "metadata": {},
   "outputs": [],
   "source": [
    "rain_baseline = rain.copy()\n",
    "rain_baseline.drop([x for x in rain_baseline.columns if 'winddir' in x], axis='columns', inplace=True)\n",
    "X_bl = rain_baseline.loc[:, rain_baseline.columns != 'raintomorrow']\n",
    "y_bl = rain_baseline['raintomorrow']\n",
    "X_bl_train, X_bl_test, y_bl_train, y_bl_test = train_test_split(X_bl, y_bl, test_size=0.2, stratify=y_bl)"
   ]
  },
  {
   "cell_type": "markdown",
   "metadata": {
    "heading_collapsed": true
   },
   "source": [
    "### Outliers"
   ]
  },
  {
   "cell_type": "code",
   "execution_count": 29,
   "metadata": {
    "hidden": true
   },
   "outputs": [
    {
     "data": {
      "text/plain": [
       "\"\\nX_bl_train = pd.DataFrame(X_bl_train)\\nX_bl_train.columns = X_bl.columns\\nX_bl_train['raintomorrow'] = y_bl_train\\nX_bl_test = pd.DataFrame(X_bl_test)\\nX_bl_test.columns = X_bl.columns\\nX_bl_test['raintomorrow'] = y_bl_test\\n\""
      ]
     },
     "execution_count": 29,
     "metadata": {},
     "output_type": "execute_result"
    }
   ],
   "source": [
    "'''\n",
    "X_bl_train = pd.DataFrame(X_bl_train)\n",
    "X_bl_train.columns = X_bl.columns\n",
    "X_bl_train['raintomorrow'] = y_bl_train\n",
    "X_bl_test = pd.DataFrame(X_bl_test)\n",
    "X_bl_test.columns = X_bl.columns\n",
    "X_bl_test['raintomorrow'] = y_bl_test\n",
    "'''"
   ]
  },
  {
   "cell_type": "code",
   "execution_count": 30,
   "metadata": {
    "hidden": true,
    "scrolled": true
   },
   "outputs": [
    {
     "data": {
      "text/plain": [
       "\"\\nq25 = rain_baseline.loc[rain_baseline['raintomorrow'] == 1,'humidity3pm'].quantile(0.25)\\nX_bl_train.loc[(X_bl_train['humidity3pm'] < q25) & X_bl_train['raintomorrow'] == 1,'humidity3pm'] = X_bl_train.humidity3pm.mean()\\nX_bl_test.loc[(X_bl_test['humidity3pm'] < q25) & X_bl_test['raintomorrow'] == 1,'humidity3pm'] = X_bl_train.humidity3pm.mean()\\n\\nq25 = rain_baseline.loc[rain_baseline['raintomorrow'] == 1,'humidity'].quantile(0.25)\\nq75 = rain_baseline.loc[rain_baseline['raintomorrow'] == 0,'humidity'].quantile(0.75)\\nX_bl_train.loc[(X_bl_train['humidity'] < q25) & X_bl_train['raintomorrow'] == 1,'humidity'] = X_bl_train.humidity.mean()\\nX_bl_train.loc[(X_bl_train['humidity'] > q75) & X_bl_train['raintomorrow'] == 0,'humidity'] = X_bl_train.humidity.mean()\\nX_bl_test.loc[(X_bl_test['humidity'] < q25) & X_bl_test['raintomorrow'] == 1,'humidity'] = X_bl_train.humidity.mean()\\nX_bl_test.loc[(X_bl_test['humidity'] > q75) & X_bl_test['raintomorrow'] == 0,'humidity'] = X_bl_train.humidity.mean()\\n\\nq25 = rain_baseline.loc[rain_baseline['raintomorrow'] == 1,'cloud3pm'].quantile(0.25)\\nX_bl_train.loc[(X_bl_train['cloud3pm'] < q25) & X_bl_train['raintomorrow'] == 1,'cloud3pm'] = X_bl_train.cloud3pm.mean()\\nX_bl_test.loc[(X_bl_train['cloud3pm'] < q25) & X_bl_test['raintomorrow'] == 1,'cloud3pm'] = X_bl_train.cloud3pm.mean()\\n\\nq25 = rain_baseline.loc[rain_baseline['raintomorrow'] == 1,'cloud9am'].quantile(0.25)\\nX_bl_train.loc[(X_bl_train['cloud9am'] < q25) & X_bl_train['raintomorrow'] == 1,'cloud9am'] = X_bl_train.cloud9am.mean()\\nX_bl_test.loc[(X_bl_train['cloud9am'] < q25) & X_bl_test['raintomorrow'] == 1,'cloud9am'] = X_bl_train.cloud9am.mean()\\n\\nq75 = rain_baseline.loc[rain_baseline['raintomorrow'] == 0,'raintoday'].quantile(0.75)\\nX_bl_train.loc[(X_bl_train['raintoday'] < q25) & X_bl_train['raintomorrow'] == 0,'raintoday'] = X_bl_train.raintoday.mean()\\nX_bl_test.loc[(X_bl_train['raintoday'] < q25) & X_bl_test['raintomorrow'] == 0,'raintoday'] = X_bl_train.raintoday.mean()\\n\""
      ]
     },
     "execution_count": 30,
     "metadata": {},
     "output_type": "execute_result"
    }
   ],
   "source": [
    "'''\n",
    "q25 = rain_baseline.loc[rain_baseline['raintomorrow'] == 1,'humidity3pm'].quantile(0.25)\n",
    "X_bl_train.loc[(X_bl_train['humidity3pm'] < q25) & X_bl_train['raintomorrow'] == 1,'humidity3pm'] = X_bl_train.humidity3pm.mean()\n",
    "X_bl_test.loc[(X_bl_test['humidity3pm'] < q25) & X_bl_test['raintomorrow'] == 1,'humidity3pm'] = X_bl_train.humidity3pm.mean()\n",
    "\n",
    "q25 = rain_baseline.loc[rain_baseline['raintomorrow'] == 1,'humidity'].quantile(0.25)\n",
    "q75 = rain_baseline.loc[rain_baseline['raintomorrow'] == 0,'humidity'].quantile(0.75)\n",
    "X_bl_train.loc[(X_bl_train['humidity'] < q25) & X_bl_train['raintomorrow'] == 1,'humidity'] = X_bl_train.humidity.mean()\n",
    "X_bl_train.loc[(X_bl_train['humidity'] > q75) & X_bl_train['raintomorrow'] == 0,'humidity'] = X_bl_train.humidity.mean()\n",
    "X_bl_test.loc[(X_bl_test['humidity'] < q25) & X_bl_test['raintomorrow'] == 1,'humidity'] = X_bl_train.humidity.mean()\n",
    "X_bl_test.loc[(X_bl_test['humidity'] > q75) & X_bl_test['raintomorrow'] == 0,'humidity'] = X_bl_train.humidity.mean()\n",
    "\n",
    "q25 = rain_baseline.loc[rain_baseline['raintomorrow'] == 1,'cloud3pm'].quantile(0.25)\n",
    "X_bl_train.loc[(X_bl_train['cloud3pm'] < q25) & X_bl_train['raintomorrow'] == 1,'cloud3pm'] = X_bl_train.cloud3pm.mean()\n",
    "X_bl_test.loc[(X_bl_train['cloud3pm'] < q25) & X_bl_test['raintomorrow'] == 1,'cloud3pm'] = X_bl_train.cloud3pm.mean()\n",
    "\n",
    "q25 = rain_baseline.loc[rain_baseline['raintomorrow'] == 1,'cloud9am'].quantile(0.25)\n",
    "X_bl_train.loc[(X_bl_train['cloud9am'] < q25) & X_bl_train['raintomorrow'] == 1,'cloud9am'] = X_bl_train.cloud9am.mean()\n",
    "X_bl_test.loc[(X_bl_train['cloud9am'] < q25) & X_bl_test['raintomorrow'] == 1,'cloud9am'] = X_bl_train.cloud9am.mean()\n",
    "\n",
    "q75 = rain_baseline.loc[rain_baseline['raintomorrow'] == 0,'raintoday'].quantile(0.75)\n",
    "X_bl_train.loc[(X_bl_train['raintoday'] < q25) & X_bl_train['raintomorrow'] == 0,'raintoday'] = X_bl_train.raintoday.mean()\n",
    "X_bl_test.loc[(X_bl_train['raintoday'] < q25) & X_bl_test['raintomorrow'] == 0,'raintoday'] = X_bl_train.raintoday.mean()\n",
    "'''"
   ]
  },
  {
   "cell_type": "code",
   "execution_count": 31,
   "metadata": {
    "hidden": true
   },
   "outputs": [],
   "source": [
    "#X_bl_train.drop(['raintomorrow'], axis='columns', inplace=True)\n",
    "#X_bl_test.drop(['raintomorrow'], axis='columns', inplace=True)"
   ]
  },
  {
   "cell_type": "markdown",
   "metadata": {},
   "source": [
    "### Model"
   ]
  },
  {
   "cell_type": "code",
   "execution_count": 32,
   "metadata": {},
   "outputs": [],
   "source": [
    "imputer = SimpleImputer(strategy='mean')\n",
    "X_bl_train = imputer.fit_transform(X_bl_train)\n",
    "X_bl_test = imputer.transform(X_bl_test)\n",
    "scaler = StandardScaler()\n",
    "X_bl_train = scaler.fit_transform(X_bl_train)\n",
    "X_bl_test = scaler.transform(X_bl_test)"
   ]
  },
  {
   "cell_type": "code",
   "execution_count": 33,
   "metadata": {},
   "outputs": [
    {
     "data": {
      "text/plain": [
       "LogisticRegression()"
      ]
     },
     "execution_count": 33,
     "metadata": {},
     "output_type": "execute_result"
    }
   ],
   "source": [
    "logistic = LogisticRegression()\n",
    "logistic.fit(X_bl_train, y_bl_train)"
   ]
  },
  {
   "cell_type": "code",
   "execution_count": 34,
   "metadata": {},
   "outputs": [
    {
     "data": {
      "text/plain": [
       "0.8567994497291302"
      ]
     },
     "execution_count": 34,
     "metadata": {},
     "output_type": "execute_result"
    }
   ],
   "source": [
    "roc_auc_score(y_bl_test, logistic.predict_proba(X_bl_test)[:, 1])"
   ]
  },
  {
   "cell_type": "code",
   "execution_count": 35,
   "metadata": {
    "scrolled": true
   },
   "outputs": [
    {
     "data": {
      "text/plain": [
       "<sklearn.metrics._plot.confusion_matrix.ConfusionMatrixDisplay at 0x7fcd4a511210>"
      ]
     },
     "execution_count": 35,
     "metadata": {},
     "output_type": "execute_result"
    },
    {
     "data": {
      "image/png": "[encoded data removed]",
      "text/plain": [
       "<Figure size 432x288 with 2 Axes>"
      ]
     },
     "metadata": {
      "needs_background": "light"
     },
     "output_type": "display_data"
    }
   ],
   "source": [
    "plot_confusion_matrix(logistic, X_bl_test, y_bl_test,values_format='d')"
   ]
  },
  {
   "cell_type": "markdown",
   "metadata": {},
   "source": [
    "## LGBM"
   ]
  },
  {
   "cell_type": "code",
   "execution_count": 36,
   "metadata": {},
   "outputs": [],
   "source": [
    "X = rain.loc[:, rain.columns != 'raintomorrow']\n",
    "y = rain['raintomorrow']"
   ]
  },
  {
   "cell_type": "code",
   "execution_count": 37,
   "metadata": {},
   "outputs": [],
   "source": [
    "X_train, X_test, y_train, y_test = train_test_split(X, y, test_size=0.2, stratify=y)"
   ]
  },
  {
   "cell_type": "markdown",
   "metadata": {
    "heading_collapsed": true
   },
   "source": [
    "### Outliers"
   ]
  },
  {
   "cell_type": "code",
   "execution_count": 38,
   "metadata": {
    "hidden": true
   },
   "outputs": [
    {
     "data": {
      "text/plain": [
       "\"\\nX_train = pd.DataFrame(X_train)\\nX_train.columns = X.columns\\nX_train['raintomorrow'] = y_train\\nX_test = pd.DataFrame(X_test)\\nX_test.columns = X.columns\\nX_test['raintomorrow'] = y_test\\n\""
      ]
     },
     "execution_count": 38,
     "metadata": {},
     "output_type": "execute_result"
    }
   ],
   "source": [
    "'''\n",
    "X_train = pd.DataFrame(X_train)\n",
    "X_train.columns = X.columns\n",
    "X_train['raintomorrow'] = y_train\n",
    "X_test = pd.DataFrame(X_test)\n",
    "X_test.columns = X.columns\n",
    "X_test['raintomorrow'] = y_test\n",
    "'''"
   ]
  },
  {
   "cell_type": "code",
   "execution_count": 39,
   "metadata": {
    "hidden": true,
    "scrolled": true
   },
   "outputs": [
    {
     "data": {
      "text/plain": [
       "\"\\nq25 = rain.loc[rain['raintomorrow'] == 1,'humidity3pm'].quantile(0.25)\\nX_train.loc[(X_train['humidity3pm'] < q25) & X_train['raintomorrow'] == 1,'humidity3pm'] = X_train.humidity3pm.mean()\\nX_test.loc[(X_test['humidity3pm'] < q25) & X_test['raintomorrow'] == 1,'humidity3pm'] = X_train.humidity3pm.mean()\\n\\nq25 = rain.loc[rain['raintomorrow'] == 1,'humidity'].quantile(0.25)\\nq75 = rain.loc[rain['raintomorrow'] == 0,'humidity'].quantile(0.75)\\nX_train.loc[(X_train['humidity'] < q25) & X_train['raintomorrow'] == 1,'humidity'] = X_train.humidity.mean()\\nX_train.loc[(X_train['humidity'] > q75) & X_train['raintomorrow'] == 0,'humidity'] = X_train.humidity.mean()\\nX_test.loc[(X_test['humidity'] < q25) & X_test['raintomorrow'] == 1,'humidity'] = X_train.humidity.mean()\\nX_test.loc[(X_test['humidity'] > q75) & X_test['raintomorrow'] == 0,'humidity'] = X_train.humidity.mean()\\n\\nq25 = rain.loc[rain['raintomorrow'] == 1,'cloud3pm'].quantile(0.25)\\nX_train.loc[(X_train['cloud3pm'] < q25) & X_train['raintomorrow'] == 1,'cloud3pm'] = X_train.cloud3pm.mean()\\nX_test.loc[(X_test['cloud3pm'] < q25) & X_test['raintomorrow'] == 1,'cloud3pm'] = X_train.cloud3pm.mean()\\n\\nq25 = rain.loc[rain['raintomorrow'] == 1,'cloud9am'].quantile(0.25)\\nX_train.loc[(X_train['cloud9am'] < q25) & X_train['raintomorrow'] == 1,'cloud9am'] = X_train.cloud9am.mean()\\nX_test.loc[(X_test['cloud9am'] < q25) & X_test['raintomorrow'] == 1,'cloud9am'] = X_train.cloud9am.mean()\\n\\nq75 = rain.loc[rain['raintomorrow'] == 0,'raintoday'].quantile(0.75)\\nX_train.loc[(X_train['raintoday'] < q25) & X_train['raintomorrow'] == 0,'raintoday'] = X_train.raintoday.mean()\\nX_test.loc[(X_test['raintoday'] < q25) & X_test['raintomorrow'] == 0,'raintoday'] = X_train.raintoday.mean()\\n\""
      ]
     },
     "execution_count": 39,
     "metadata": {},
     "output_type": "execute_result"
    }
   ],
   "source": [
    "'''\n",
    "q25 = rain.loc[rain['raintomorrow'] == 1,'humidity3pm'].quantile(0.25)\n",
    "X_train.loc[(X_train['humidity3pm'] < q25) & X_train['raintomorrow'] == 1,'humidity3pm'] = X_train.humidity3pm.mean()\n",
    "X_test.loc[(X_test['humidity3pm'] < q25) & X_test['raintomorrow'] == 1,'humidity3pm'] = X_train.humidity3pm.mean()\n",
    "\n",
    "q25 = rain.loc[rain['raintomorrow'] == 1,'humidity'].quantile(0.25)\n",
    "q75 = rain.loc[rain['raintomorrow'] == 0,'humidity'].quantile(0.75)\n",
    "X_train.loc[(X_train['humidity'] < q25) & X_train['raintomorrow'] == 1,'humidity'] = X_train.humidity.mean()\n",
    "X_train.loc[(X_train['humidity'] > q75) & X_train['raintomorrow'] == 0,'humidity'] = X_train.humidity.mean()\n",
    "X_test.loc[(X_test['humidity'] < q25) & X_test['raintomorrow'] == 1,'humidity'] = X_train.humidity.mean()\n",
    "X_test.loc[(X_test['humidity'] > q75) & X_test['raintomorrow'] == 0,'humidity'] = X_train.humidity.mean()\n",
    "\n",
    "q25 = rain.loc[rain['raintomorrow'] == 1,'cloud3pm'].quantile(0.25)\n",
    "X_train.loc[(X_train['cloud3pm'] < q25) & X_train['raintomorrow'] == 1,'cloud3pm'] = X_train.cloud3pm.mean()\n",
    "X_test.loc[(X_test['cloud3pm'] < q25) & X_test['raintomorrow'] == 1,'cloud3pm'] = X_train.cloud3pm.mean()\n",
    "\n",
    "q25 = rain.loc[rain['raintomorrow'] == 1,'cloud9am'].quantile(0.25)\n",
    "X_train.loc[(X_train['cloud9am'] < q25) & X_train['raintomorrow'] == 1,'cloud9am'] = X_train.cloud9am.mean()\n",
    "X_test.loc[(X_test['cloud9am'] < q25) & X_test['raintomorrow'] == 1,'cloud9am'] = X_train.cloud9am.mean()\n",
    "\n",
    "q75 = rain.loc[rain['raintomorrow'] == 0,'raintoday'].quantile(0.75)\n",
    "X_train.loc[(X_train['raintoday'] < q25) & X_train['raintomorrow'] == 0,'raintoday'] = X_train.raintoday.mean()\n",
    "X_test.loc[(X_test['raintoday'] < q25) & X_test['raintomorrow'] == 0,'raintoday'] = X_train.raintoday.mean()\n",
    "'''"
   ]
  },
  {
   "cell_type": "code",
   "execution_count": 40,
   "metadata": {
    "hidden": true
   },
   "outputs": [],
   "source": [
    "#X_train.drop(['raintomorrow'], axis='columns', inplace=True)\n",
    "#X_test.drop(['raintomorrow'], axis='columns', inplace=True)"
   ]
  },
  {
   "cell_type": "markdown",
   "metadata": {},
   "source": [
    "### Model"
   ]
  },
  {
   "cell_type": "code",
   "execution_count": 41,
   "metadata": {},
   "outputs": [],
   "source": [
    "scaler = RobustScaler()\n",
    "X_train = scaler.fit_transform(X_train)\n",
    "X_test = scaler.transform(X_test)"
   ]
  },
  {
   "cell_type": "code",
   "execution_count": 42,
   "metadata": {},
   "outputs": [
    {
     "data": {
      "text/plain": [
       "(0.8829614693441235, 0.0025478613109685454)"
      ]
     },
     "execution_count": 42,
     "metadata": {},
     "output_type": "execute_result"
    }
   ],
   "source": [
    "lgb = LGBMClassifier(max_depth=12, n_estimators=300, colsample_bytree=.7, n_jobs=-1)\n",
    "results = cross_val_score(lgb, X_train, y_train, cv=KFold(10, shuffle=True), scoring='roc_auc')\n",
    "(np.mean(results), np.std(results))"
   ]
  },
  {
   "cell_type": "code",
   "execution_count": 43,
   "metadata": {},
   "outputs": [
    {
     "data": {
      "text/plain": [
       "LGBMClassifier(colsample_bytree=0.7, max_depth=12, n_estimators=300)"
      ]
     },
     "execution_count": 43,
     "metadata": {},
     "output_type": "execute_result"
    }
   ],
   "source": [
    "lgb.fit(X_train, y_train)"
   ]
  },
  {
   "cell_type": "code",
   "execution_count": 44,
   "metadata": {},
   "outputs": [
    {
     "data": {
      "text/plain": [
       "0.8846697201723329"
      ]
     },
     "execution_count": 44,
     "metadata": {},
     "output_type": "execute_result"
    }
   ],
   "source": [
    "roc_auc_score(y_test, lgb.predict_proba(X_test)[:, 1])"
   ]
  },
  {
   "cell_type": "code",
   "execution_count": 45,
   "metadata": {},
   "outputs": [
    {
     "data": {
      "text/plain": [
       "<sklearn.metrics._plot.confusion_matrix.ConfusionMatrixDisplay at 0x7fcd4eccdd90>"
      ]
     },
     "execution_count": 45,
     "metadata": {},
     "output_type": "execute_result"
    },
    {
     "data": {
      "image/png": "[encoded data removed]",
      "text/plain": [
       "<Figure size 432x288 with 2 Axes>"
      ]
     },
     "metadata": {
      "needs_background": "light"
     },
     "output_type": "display_data"
    }
   ],
   "source": [
    "plot_confusion_matrix(lgb, X_test,y_test)"
   ]
  },
  {
   "cell_type": "markdown",
   "metadata": {},
   "source": [
    "# Feature selection"
   ]
  },
  {
   "cell_type": "code",
   "execution_count": 46,
   "metadata": {},
   "outputs": [],
   "source": [
    "X = rain.loc[:, rain.columns != 'raintomorrow']\n",
    "y = rain['raintomorrow']"
   ]
  },
  {
   "cell_type": "code",
   "execution_count": 47,
   "metadata": {},
   "outputs": [
    {
     "data": {
      "text/plain": [
       "(113754, 60)"
      ]
     },
     "execution_count": 47,
     "metadata": {},
     "output_type": "execute_result"
    }
   ],
   "source": [
    "selector = VarianceThreshold(1.2)\n",
    "X_train.shape"
   ]
  },
  {
   "cell_type": "code",
   "execution_count": 48,
   "metadata": {},
   "outputs": [
    {
     "data": {
      "text/plain": [
       "(113754, 2)"
      ]
     },
     "execution_count": 48,
     "metadata": {},
     "output_type": "execute_result"
    }
   ],
   "source": [
    "selector.fit_transform(X_train).shape"
   ]
  },
  {
   "cell_type": "code",
   "execution_count": 49,
   "metadata": {},
   "outputs": [
    {
     "data": {
      "text/plain": [
       "Index(['rainfall', 'distanceToCoast'], dtype='object')"
      ]
     },
     "execution_count": 49,
     "metadata": {},
     "output_type": "execute_result"
    }
   ],
   "source": [
    "X.loc[:,selector.get_support()].columns"
   ]
  },
  {
   "cell_type": "code",
   "execution_count": 50,
   "metadata": {},
   "outputs": [],
   "source": [
    "X_train = selector.fit_transform(X_test)\n",
    "X_test = selector.fit_transform(X_test)"
   ]
  },
  {
   "cell_type": "code",
   "execution_count": 51,
   "metadata": {},
   "outputs": [
    {
     "data": {
      "text/plain": [
       "(0.8831733257961595, 0.004763947366289159)"
      ]
     },
     "execution_count": 51,
     "metadata": {},
     "output_type": "execute_result"
    }
   ],
   "source": [
    "X_train, X_test, y_train, y_test = train_test_split(X, y, test_size=0.2, stratify=y)\n",
    "lgb = LGBMClassifier(max_depth=12, n_estimators=300, colsample_bytree=.7, n_jobs=-1)\n",
    "results = cross_val_score(lgb, X_train, y_train, cv=KFold(10, shuffle=True), scoring='roc_auc')\n",
    "(np.mean(results), np.std(results))"
   ]
  },
  {
   "cell_type": "code",
   "execution_count": 52,
   "metadata": {},
   "outputs": [
    {
     "data": {
      "text/plain": [
       "LGBMClassifier(colsample_bytree=0.7, max_depth=12, n_estimators=300)"
      ]
     },
     "execution_count": 52,
     "metadata": {},
     "output_type": "execute_result"
    }
   ],
   "source": [
    "lgb.fit(X_train, y_train)"
   ]
  },
  {
   "cell_type": "code",
   "execution_count": 53,
   "metadata": {},
   "outputs": [
    {
     "data": {
      "text/plain": [
       "0.884275455359809"
      ]
     },
     "execution_count": 53,
     "metadata": {},
     "output_type": "execute_result"
    }
   ],
   "source": [
    "roc_auc_score(y_test, lgb.predict_proba(X_test)[:, 1])"
   ]
  },
  {
   "cell_type": "markdown",
   "metadata": {},
   "source": [
    "# Hyperparameter Tuning"
   ]
  },
  {
   "cell_type": "code",
   "execution_count": null,
   "metadata": {},
   "outputs": [],
   "source": []
  },
  {
   "cell_type": "markdown",
   "metadata": {},
   "source": [
    "# Conclusion"
   ]
  },
  {
   "cell_type": "code",
   "execution_count": 54,
   "metadata": {},
   "outputs": [],
   "source": [
    "cvp = cross_val_predict(lgb, X_train, y_train, cv=KFold(10, shuffle=True),method='predict_proba')[:, 1]"
   ]
  },
  {
   "cell_type": "code",
   "execution_count": 55,
   "metadata": {},
   "outputs": [],
   "source": [
    "threshold1 = cvp > 0.1\n",
    "threshold2 = cvp > 0.2\n",
    "threshold3 = cvp > 0.3\n",
    "threshold4 = cvp > 0.4\n",
    "threshold5 = cvp > 0.5\n",
    "threshold6 = cvp > 0.6\n",
    "threshold7 = cvp > 0.7\n",
    "threshold8 = cvp > 0.8\n",
    "threshold9 = cvp > 0.9"
   ]
  },
  {
   "cell_type": "code",
   "execution_count": 56,
   "metadata": {
    "scrolled": true
   },
   "outputs": [
    {
     "data": {
      "text/plain": [
       "Text(0.5, 1.0, '0.9')"
      ]
     },
     "execution_count": 56,
     "metadata": {},
     "output_type": "execute_result"
    },
    {
     "data": {
      "image/png": "[encoded data removed]",
      "text/plain": [
       "<Figure size 1296x1008 with 18 Axes>"
      ]
     },
     "metadata": {
      "needs_background": "light"
     },
     "output_type": "display_data"
    }
   ],
   "source": [
    "fig, axes = plt.subplots(3,3,figsize=(18,14))\n",
    "sns.heatmap(confusion_matrix(y_train,threshold1),annot=True,fmt='d',ax=axes[0][0]).set_title('0.1')\n",
    "sns.heatmap(confusion_matrix(y_train,threshold2),annot=True,fmt='d',ax=axes[0][1]).set_title('0.2')\n",
    "sns.heatmap(confusion_matrix(y_train,threshold3),annot=True,fmt='d',ax=axes[0][2]).set_title('0.3')\n",
    "sns.heatmap(confusion_matrix(y_train,threshold4),annot=True,fmt='d',ax=axes[1][0]).set_title('0.4')\n",
    "sns.heatmap(confusion_matrix(y_train,threshold5),annot=True,fmt='d',ax=axes[1][1]).set_title('0.5')\n",
    "sns.heatmap(confusion_matrix(y_train,threshold6),annot=True,fmt='d',ax=axes[1][2]).set_title('0.6')\n",
    "sns.heatmap(confusion_matrix(y_train,threshold7),annot=True,fmt='d',ax=axes[2][0]).set_title('0.7')\n",
    "sns.heatmap(confusion_matrix(y_train,threshold8),annot=True,fmt='d',ax=axes[2][1]).set_title('0.8')\n",
    "sns.heatmap(confusion_matrix(y_train,threshold9),annot=True,fmt='d',ax=axes[2][2]).set_title('0.9')"
   ]
  },
  {
   "cell_type": "code",
   "execution_count": 57,
   "metadata": {},
   "outputs": [
    {
     "data": {
      "text/plain": [
       "0.8455641900207461"
      ]
     },
     "execution_count": 57,
     "metadata": {},
     "output_type": "execute_result"
    }
   ],
   "source": [
    "accuracy_score(y_test, lgb.predict_proba(X_test)[:, 1]>0.35)"
   ]
  },
  {
   "cell_type": "code",
   "execution_count": 58,
   "metadata": {},
   "outputs": [
    {
     "data": {
      "text/plain": [
       "0.6652549019607843"
      ]
     },
     "execution_count": 58,
     "metadata": {},
     "output_type": "execute_result"
    }
   ],
   "source": [
    "recall_score(y_test, lgb.predict_proba(X_test)[:, 1]>0.35)"
   ]
  },
  {
   "cell_type": "code",
   "execution_count": 59,
   "metadata": {},
   "outputs": [
    {
     "data": {
      "text/plain": [
       "0.6525619326050162"
      ]
     },
     "execution_count": 59,
     "metadata": {},
     "output_type": "execute_result"
    }
   ],
   "source": [
    "precision_score(y_test, lgb.predict_proba(X_test)[:, 1]>0.35)"
   ]
  },
  {
   "cell_type": "code",
   "execution_count": 60,
   "metadata": {},
   "outputs": [],
   "source": [
    "#drop nulos\n",
    "#precipitation drop"
   ]
  }
 ],
 "metadata": {
  "hide_input": false,
  "kernelspec": {
   "display_name": "Python 3",
   "language": "python",
   "name": "python3"
  },
  "language_info": {
   "codemirror_mode": {
    "name": "ipython",
    "version": 3
   },
   "file_extension": ".py",
   "mimetype": "text/x-python",
   "name": "python",
   "nbconvert_exporter": "python",
   "pygments_lexer": "ipython3",
   "version": "3.7.7"
  },
  "toc": {
   "base_numbering": 1,
   "nav_menu": {},
   "number_sections": true,
   "sideBar": true,
   "skip_h1_title": false,
   "title_cell": "Table of Contents",
   "title_sidebar": "Contents",
   "toc_cell": false,
   "toc_position": {
    "height": "calc(100% - 180px)",
    "left": "10px",
    "top": "150px",
    "width": "224px"
   },
   "toc_section_display": true,
   "toc_window_display": true
  },
  "varInspector": {
   "cols": {
    "lenName": 16,
    "lenType": 16,
    "lenVar": 40
   },
   "kernels_config": {
    "python": {
     "delete_cmd_postfix": "",
     "delete_cmd_prefix": "del ",
     "library": "var_list.py",
     "varRefreshCmd": "print(var_dic_list())"
    },
    "r": {
     "delete_cmd_postfix": ") ",
     "delete_cmd_prefix": "rm(",
     "library": "var_list.r",
     "varRefreshCmd": "cat(var_dic_list()) "
    }
   },
   "types_to_exclude": [
    "module",
    "function",
    "builtin_function_or_method",
    "instance",
    "_Feature"
   ],
   "window_display": false
  }
 },
 "nbformat": 4,
 "nbformat_minor": 2
}
